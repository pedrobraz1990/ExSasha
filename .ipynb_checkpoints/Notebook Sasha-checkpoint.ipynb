{
 "cells": [
  {
   "cell_type": "markdown",
   "metadata": {},
   "source": [
    "Sasha eu não sei a sintaxe do C de cabeça , vou escrever em python (que é uma sintaxe genérica) e vc passa pra C, pode ser ?\n",
    "\n",
    "\n",
    "Supondo que vc já pegou os dos inputs ``m`` e ``n``\n",
    "\n",
    "Você sabe que necessariamente cada cada linha vai ter ``m*n`` números e que voce vai ter que escrever ``m*n`` linhas. \n",
    "\n",
    "Então você vai fazer um ``for`` para escrever as linhas e um para os vetores.\n",
    "\n",
    "Com estes dois ``for`` nós iremos escrever elemento por elemento (como vc disse que não pode usar matrizes). \n",
    "\n",
    "Nós precisamos de um contador que nos avise quando já escrevemos 1 ou 0 ``m`` vezes. Desta forma vai bastar saber com qual número a linha começa\n",
    "\n",
    "\n",
    "\n",
    "Existem infinitas maneiras de fazer a lógica para descobrir isto, mas uma delas é seguinte:"
   ]
  },
  {
   "cell_type": "code",
   "execution_count": 4,
   "metadata": {
    "collapsed": false
   },
   "outputs": [
    {
     "name": "stdout",
     "output_type": "stream",
     "text": [
      "1 1 1 1 1 0 0 0 0 0 1 1 1 1 1 0 0 0 0 0 \n",
      "1 1 1 1 1 0 0 0 0 0 1 1 1 1 1 0 0 0 0 0 \n",
      "1 1 1 1 1 0 0 0 0 0 1 1 1 1 1 0 0 0 0 0 \n",
      "1 1 1 1 1 0 0 0 0 0 1 1 1 1 1 0 0 0 0 0 \n",
      "1 1 1 1 1 0 0 0 0 0 1 1 1 1 1 0 0 0 0 0 \n",
      "0 0 0 0 0 1 1 1 1 1 0 0 0 0 0 1 1 1 1 1 \n",
      "0 0 0 0 0 1 1 1 1 1 0 0 0 0 0 1 1 1 1 1 \n",
      "0 0 0 0 0 1 1 1 1 1 0 0 0 0 0 1 1 1 1 1 \n",
      "0 0 0 0 0 1 1 1 1 1 0 0 0 0 0 1 1 1 1 1 \n",
      "0 0 0 0 0 1 1 1 1 1 0 0 0 0 0 1 1 1 1 1 \n",
      "1 1 1 1 1 0 0 0 0 0 1 1 1 1 1 0 0 0 0 0 \n",
      "1 1 1 1 1 0 0 0 0 0 1 1 1 1 1 0 0 0 0 0 \n",
      "1 1 1 1 1 0 0 0 0 0 1 1 1 1 1 0 0 0 0 0 \n",
      "1 1 1 1 1 0 0 0 0 0 1 1 1 1 1 0 0 0 0 0 \n",
      "1 1 1 1 1 0 0 0 0 0 1 1 1 1 1 0 0 0 0 0 \n",
      "0 0 0 0 0 1 1 1 1 1 0 0 0 0 0 1 1 1 1 1 \n",
      "0 0 0 0 0 1 1 1 1 1 0 0 0 0 0 1 1 1 1 1 \n",
      "0 0 0 0 0 1 1 1 1 1 0 0 0 0 0 1 1 1 1 1 \n",
      "0 0 0 0 0 1 1 1 1 1 0 0 0 0 0 1 1 1 1 1 \n",
      "0 0 0 0 0 1 1 1 1 1 0 0 0 0 0 1 1 1 1 1 \n"
     ]
    }
   ],
   "source": [
    "m = 4\n",
    "n = 5\n",
    "\n",
    "\n",
    "\n",
    "# A variavel proximoNumero sempre vai guardar o proximo numero que vamos escrever \n",
    "# A variavel primeiroNumero sempre vai guardar o primeiro numero da proxima\n",
    "\n",
    "if -1^n <0:\n",
    "# se n eh impar\n",
    "    proximoNumero = 1\n",
    "    primeiroNumero = 1\n",
    "else:\n",
    "# se n eh par    \n",
    "    proximoNumero = 0\n",
    "    primeiroNumero = 0\n",
    "    \n",
    "    \n",
    "    \n",
    "# Agora precisamos dos nossos contadores horizontal e vertical. E tambem um contador de quadrados\n",
    "contHorizontal = 0\n",
    "contVertical = 0\n",
    "contQuadrados = 0\n",
    "\n",
    "numeroLinha = 1\n",
    "while (numeroLinha <= m*n and contQuadrados <= n):\n",
    "\n",
    "# se for uma linha nova precisamos trocar o numero inicial\n",
    "    if contVertical >= n:\n",
    "        contVertical = 0\n",
    "        contQuadrados = contQuadrados + 1\n",
    "        # trocar numero\n",
    "        \n",
    "        if primeiroNumero == 1:\n",
    "            # se o numero era 1 eu troco para 0\n",
    "            primeiroNumero = 0\n",
    "        else:\n",
    "            # se o numero era 0 eu troco para 1\n",
    "            primeiroNumero = 1\n",
    "        \n",
    "        \n",
    "    \n",
    "# vamos criar uma variavel linha para colocar todos os elementos e imprimir\n",
    "    linha = ''\n",
    "    for numeroColuna in range(1,m*n+1):\n",
    "    # indo de 1 ate m*n\n",
    "        if contHorizontal >= n:\n",
    "            contHorizontal = 0\n",
    "            # trocar numero\n",
    "            if proximoNumero == 1:\n",
    "                # se o numero era 1 eu troco para 0\n",
    "                proximoNumero = 0\n",
    "            else:\n",
    "                # se o numero era 0 eu troco para 1\n",
    "                proximoNumero = 1\n",
    "        \n",
    "        if numeroColuna == 1:\n",
    "            proximoNumero = primeiroNumero\n",
    "\n",
    "                \n",
    "        linha = linha + str(proximoNumero) + ' '\n",
    "        contHorizontal = contHorizontal + 1\n",
    "    \n",
    "    print linha\n",
    "    contVertical = contVertical + 1    \n",
    "    \n",
    "    numeroLinha = numeroLinha + 1\n"
   ]
  },
  {
   "cell_type": "code",
   "execution_count": null,
   "metadata": {
    "collapsed": true
   },
   "outputs": [],
   "source": []
  }
 ],
 "metadata": {
  "kernelspec": {
   "display_name": "Python 2",
   "language": "python",
   "name": "python2"
  },
  "language_info": {
   "codemirror_mode": {
    "name": "ipython",
    "version": 2
   },
   "file_extension": ".py",
   "mimetype": "text/x-python",
   "name": "python",
   "nbconvert_exporter": "python",
   "pygments_lexer": "ipython2",
   "version": "2.7.11"
  }
 },
 "nbformat": 4,
 "nbformat_minor": 0
}
